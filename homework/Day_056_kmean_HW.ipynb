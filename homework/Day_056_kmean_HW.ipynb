{
 "cells": [
  {
   "cell_type": "markdown",
   "metadata": {},
   "source": [
    "# K-Mean 觀察 : 使用輪廓分析"
   ]
  },
  {
   "cell_type": "markdown",
   "metadata": {},
   "source": [
    "# [作業目標]\n",
    "- 試著模仿範例寫法, 利用隨機生成的 5 群高斯分布資料, 以輪廓分析來觀察 K-mean 分群時不同 K 值的比較"
   ]
  },
  {
   "cell_type": "markdown",
   "metadata": {},
   "source": [
    "# [作業重點]\n",
    "- 使用輪廓分析的圖表, 以及實際的分群散佈圖, 觀察 K-Mean 分群法在 K 有所不同時, 分群的效果如何變化 (In[3], Out[3])"
   ]
  },
  {
   "cell_type": "markdown",
   "metadata": {
    "collapsed": true
   },
   "source": [
    "# 作業\n",
    "* 試著模擬出 5 群高斯分布的資料, 並以此觀察 K-mean 與輪廓分析的結果  "
   ]
  },
  {
   "cell_type": "code",
   "execution_count": 1,
   "metadata": {},
   "outputs": [],
   "source": [
    "# 載入套件\n",
    "import numpy as np\n",
    "import matplotlib\n",
    "import matplotlib.pyplot as plt\n",
    "import matplotlib.cm as cm\n",
    "from sklearn.datasets import make_blobs\n",
    "from sklearn.cluster import KMeans\n",
    "from sklearn import datasets\n",
    "from sklearn.metrics import silhouette_samples, silhouette_score\n",
    "\n",
    "np.random.seed(5)\n",
    "\n",
    "%matplotlib inline"
   ]
  },
  {
   "cell_type": "code",
   "execution_count": 2,
   "metadata": {},
   "outputs": [],
   "source": [
    "# 生成 5 群資料\n",
    "X, y = make_blobs(n_samples=500,\n",
    "                  n_features=2,\n",
    "                  centers=5,\n",
    "                  cluster_std=1,\n",
    "                  center_box=(-10.0, 10.0),\n",
    "                  shuffle=True,\n",
    "                  random_state=123) \n",
    "\n",
    "# 設定需要計算的 K 值集合\n",
    "range_n_clusters = [2, 3, 4, 5, 6, 7, 8]"
   ]
  },
  {
   "cell_type": "code",
   "execution_count": 10,
   "metadata": {},
   "outputs": [
    {
     "name": "stdout",
     "output_type": "stream",
     "text": [
      "分2群： silhouette score : 0.5027144446956527\n",
      "分3群： silhouette score : 0.6105565451092732\n",
      "分4群： silhouette score : 0.6270122040179333\n",
      "分5群： silhouette score : 0.6115749260799671\n",
      "分6群： silhouette score : 0.5494466732541075\n",
      "分7群： silhouette score : 0.468332257811922\n",
      "分8群： silhouette score : 0.45252651622165796\n"
     ]
    }
   ],
   "source": [
    "# 計算並繪製輪廓分析的結果\n",
    "for i in range_n_clusters:\n",
    "    estimators = KMeans(n_clusters = i , random_state = 0)\n",
    "    output = estimators.fit_predict(X)\n",
    "    silhouette = silhouette_score(X,output)\n",
    "    print(f'分{i}群： silhouette score : {silhouette}')"
   ]
  },
  {
   "cell_type": "code",
   "execution_count": 11,
   "metadata": {},
   "outputs": [],
   "source": [
    "# 由輪廓分析得出：分五、六群效果比較好"
   ]
  },
  {
   "cell_type": "code",
   "execution_count": 12,
   "metadata": {},
   "outputs": [
    {
     "data": {
      "text/plain": [
       "array([3, 2, 3, 0, 3, 0, 2, 3, 4, 4, 4, 3, 3, 1, 3, 2, 3, 1, 2, 3, 2, 3,\n",
       "       2, 3, 0, 4, 1, 3, 3, 1, 2, 1, 2, 3, 1, 2, 2, 4, 0, 3, 1, 3, 4, 2,\n",
       "       3, 4, 4, 2, 3, 0, 4, 2, 3, 0, 4, 4, 1, 2, 1, 2, 2, 1, 1, 1, 2, 4,\n",
       "       2, 0, 4, 0, 0, 1, 1, 3, 0, 1, 0, 1, 2, 0, 2, 0, 3, 0, 1, 2, 0, 1,\n",
       "       4, 2, 1, 4, 2, 2, 2, 0, 2, 2, 1, 4, 2, 2, 1, 1, 2, 2, 1, 1, 2, 2,\n",
       "       0, 0, 1, 0, 0, 0, 1, 2, 0, 1, 1, 3, 3, 0, 3, 2, 2, 4, 3, 0, 0, 3,\n",
       "       0, 2, 2, 1, 1, 4, 3, 4, 0, 1, 4, 2, 4, 2, 1, 3, 0, 4, 2, 3, 2, 3,\n",
       "       3, 1, 4, 0, 4, 3, 0, 2, 4, 3, 1, 4, 2, 2, 3, 3, 4, 1, 0, 0, 0, 2,\n",
       "       1, 0, 3, 4, 3, 3, 2, 0, 0, 2, 4, 1, 1, 3, 1, 1, 4, 1, 2, 2, 3, 0,\n",
       "       1, 3, 3, 0, 1, 2, 4, 3, 2, 2, 1, 4, 4, 4, 1, 3, 4, 2, 4, 4, 0, 3,\n",
       "       1, 3, 4, 4, 0, 1, 3, 1, 3, 1, 3, 3, 4, 1, 0, 0, 1, 4, 2, 0, 1, 3,\n",
       "       2, 0, 4, 1, 4, 2, 3, 3, 3, 2, 4, 0, 0, 1, 1, 2, 4, 2, 1, 2, 1, 1,\n",
       "       1, 2, 2, 1, 4, 4, 0, 3, 0, 3, 0, 3, 0, 2, 3, 0, 3, 3, 1, 1, 4, 2,\n",
       "       4, 3, 4, 4, 0, 2, 0, 0, 1, 2, 3, 4, 4, 0, 2, 1, 3, 3, 1, 3, 0, 4,\n",
       "       1, 2, 2, 0, 4, 1, 4, 4, 1, 4, 4, 1, 0, 2, 0, 3, 0, 1, 3, 4, 4, 1,\n",
       "       1, 3, 1, 0, 2, 2, 2, 3, 2, 1, 0, 2, 1, 2, 1, 4, 4, 0, 2, 1, 2, 1,\n",
       "       1, 0, 1, 2, 3, 1, 0, 3, 0, 4, 4, 1, 3, 0, 0, 0, 4, 1, 0, 0, 2, 2,\n",
       "       3, 4, 2, 1, 3, 2, 0, 0, 4, 2, 3, 3, 1, 0, 0, 2, 3, 4, 3, 3, 3, 3,\n",
       "       3, 4, 1, 2, 2, 2, 4, 3, 3, 0, 2, 4, 2, 4, 4, 2, 2, 0, 0, 3, 4, 0,\n",
       "       4, 4, 1, 0, 3, 4, 4, 0, 2, 0, 2, 3, 4, 3, 4, 1, 4, 2, 1, 4, 4, 2,\n",
       "       1, 3, 1, 1, 4, 0, 2, 1, 1, 3, 0, 3, 0, 0, 0, 3, 1, 4, 4, 0, 1, 3,\n",
       "       2, 2, 0, 1, 4, 2, 0, 1, 3, 3, 3, 2, 4, 4, 0, 0, 4, 4, 0, 0, 3, 2,\n",
       "       3, 0, 0, 0, 0, 4, 1, 3, 4, 4, 1, 4, 4, 0, 3, 0], dtype=int32)"
      ]
     },
     "execution_count": 12,
     "metadata": {},
     "output_type": "execute_result"
    }
   ],
   "source": [
    "estimators = KMeans(n_clusters = 5 , random_state = 0)\n",
    "output = estimators.fit_predict(X)\n",
    "output"
   ]
  },
  {
   "cell_type": "code",
   "execution_count": 13,
   "metadata": {},
   "outputs": [
    {
     "data": {
      "text/plain": [
       "array([3, 4, 3, 2, 3, 2, 4, 3, 0, 0, 0, 3, 3, 1, 3, 4, 3, 1, 4, 3, 4, 3,\n",
       "       4, 3, 2, 0, 1, 3, 3, 1, 4, 1, 4, 3, 1, 4, 4, 0, 2, 3, 1, 3, 0, 4,\n",
       "       3, 0, 0, 4, 3, 2, 0, 4, 3, 2, 0, 0, 1, 4, 1, 4, 0, 1, 1, 1, 4, 0,\n",
       "       4, 2, 0, 2, 2, 1, 1, 3, 2, 1, 2, 1, 4, 2, 4, 2, 3, 2, 1, 4, 2, 1,\n",
       "       0, 4, 1, 0, 4, 4, 4, 2, 4, 4, 1, 2, 4, 4, 1, 1, 4, 4, 1, 1, 4, 4,\n",
       "       2, 2, 1, 2, 2, 2, 1, 4, 2, 1, 1, 3, 3, 2, 3, 4, 4, 0, 3, 0, 2, 3,\n",
       "       2, 4, 4, 1, 1, 0, 3, 0, 2, 1, 0, 4, 0, 4, 1, 3, 2, 0, 4, 3, 4, 3,\n",
       "       3, 1, 0, 0, 0, 3, 2, 4, 0, 3, 1, 0, 4, 4, 3, 3, 0, 1, 2, 2, 2, 4,\n",
       "       1, 2, 3, 2, 3, 3, 4, 2, 2, 4, 0, 1, 1, 3, 1, 1, 0, 1, 4, 4, 3, 2,\n",
       "       1, 3, 3, 2, 1, 4, 0, 3, 4, 4, 1, 0, 0, 0, 1, 3, 0, 4, 2, 2, 2, 3,\n",
       "       1, 3, 0, 0, 2, 1, 3, 1, 3, 1, 3, 3, 0, 1, 2, 2, 1, 0, 4, 0, 1, 3,\n",
       "       4, 2, 0, 1, 0, 4, 3, 3, 3, 4, 0, 0, 4, 1, 1, 4, 0, 4, 1, 4, 1, 1,\n",
       "       1, 4, 4, 1, 0, 0, 2, 3, 2, 3, 2, 3, 2, 4, 3, 2, 3, 3, 1, 1, 0, 4,\n",
       "       0, 3, 0, 0, 0, 4, 2, 2, 1, 4, 3, 0, 0, 2, 2, 1, 3, 3, 1, 3, 0, 0,\n",
       "       1, 4, 2, 2, 2, 1, 0, 0, 1, 0, 0, 1, 2, 4, 2, 3, 2, 1, 3, 0, 0, 1,\n",
       "       1, 3, 1, 2, 4, 4, 4, 3, 4, 1, 2, 4, 1, 4, 1, 0, 0, 2, 4, 1, 4, 1,\n",
       "       1, 2, 1, 4, 3, 1, 2, 3, 2, 0, 0, 1, 3, 0, 2, 2, 0, 1, 2, 2, 4, 4,\n",
       "       3, 0, 4, 1, 3, 4, 2, 2, 0, 4, 3, 3, 1, 2, 2, 4, 3, 0, 3, 3, 3, 3,\n",
       "       3, 0, 1, 4, 4, 4, 0, 3, 3, 2, 4, 0, 4, 0, 0, 4, 2, 2, 2, 3, 0, 2,\n",
       "       0, 0, 1, 2, 3, 0, 0, 2, 4, 2, 4, 3, 0, 3, 0, 1, 0, 4, 1, 0, 0, 4,\n",
       "       1, 3, 1, 1, 0, 2, 4, 1, 1, 3, 2, 3, 2, 2, 2, 3, 1, 0, 0, 0, 1, 3,\n",
       "       4, 4, 2, 1, 0, 4, 2, 1, 3, 3, 3, 4, 0, 0, 2, 2, 0, 0, 2, 2, 3, 4,\n",
       "       3, 2, 2, 2, 2, 0, 1, 3, 0, 2, 1, 2, 0, 2, 3, 0])"
      ]
     },
     "execution_count": 13,
     "metadata": {},
     "output_type": "execute_result"
    }
   ],
   "source": [
    "y"
   ]
  },
  {
   "cell_type": "code",
   "execution_count": null,
   "metadata": {},
   "outputs": [],
   "source": []
  }
 ],
 "metadata": {
  "kernelspec": {
   "display_name": "Python 3",
   "language": "python",
   "name": "python3"
  },
  "language_info": {
   "codemirror_mode": {
    "name": "ipython",
    "version": 3
   },
   "file_extension": ".py",
   "mimetype": "text/x-python",
   "name": "python",
   "nbconvert_exporter": "python",
   "pygments_lexer": "ipython3",
   "version": "3.7.4"
  }
 },
 "nbformat": 4,
 "nbformat_minor": 1
}
